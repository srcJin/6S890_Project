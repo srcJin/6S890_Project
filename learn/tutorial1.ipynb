{
 "cells": [
  {
   "cell_type": "markdown",
   "metadata": {},
   "source": [
    "加载自定义四足机器人环境\n",
    "\n",
    "在本教程中，我们将了解如何使用MuJoCo/Ant-v5框架创建四足步行环境，使用模型文件（以.xml结尾），而无需创建新类。\n",
    "\n",
    "Steps:\n",
    "\n",
    "Get your MJCF (or URDF) model file of your robot.\n",
    "获取机器人的MJCF （或URDF ）模型文件。\n",
    "\n",
    "Create your own model (see the Guide) or,\n",
    "创建您自己的模型（请参阅指南）或者，\n",
    "\n",
    "Find a ready-made model (in this tutorial, we will use a model from the MuJoCo Menagerie collection).\n",
    "找到一个现成的模型（在本教程中，我们将使用MuJoCo Menagerie系列中的模型）。\n",
    "\n",
    "Load the model with the xml_file argument.\n",
    "使用xml_file参数加载模型。\n",
    "\n",
    "Tweak the environment parameters to get the desired behavior.\n",
    "调整环境参数以获得所需的行为。\n",
    "\n",
    "Tweak the environment simulation parameters.\n",
    "调整环境模拟参数。\n",
    "\n",
    "Tweak the environment termination parameters.\n",
    "调整环境终止参数。\n",
    "\n",
    "Tweak the environment reward parameters.\n",
    "调整环境奖励参数。\n",
    "\n",
    "Tweak the environment observation parameters.\n",
    "调整环境观测参数。\n",
    "\n",
    "Train an agent to move your robot.\n",
    "训练代理来移动你的机器人。"
   ]
  },
  {
   "cell_type": "code",
   "execution_count": 3,
   "metadata": {},
   "outputs": [
    {
     "name": "stdout",
     "output_type": "stream",
     "text": [
      "Defaulting to user installation because normal site-packages is not writeable\n",
      "Requirement already satisfied: gymnasium[mujoco] in c:\\users\\gaojin\\appdata\\roaming\\python\\python312\\site-packages (1.0.0)\n",
      "Requirement already satisfied: numpy>=1.21.0 in c:\\users\\gaojin\\appdata\\roaming\\python\\python312\\site-packages (from gymnasium[mujoco]) (1.26.4)\n",
      "Requirement already satisfied: cloudpickle>=1.2.0 in c:\\users\\gaojin\\appdata\\roaming\\python\\python312\\site-packages (from gymnasium[mujoco]) (3.1.0)\n",
      "Requirement already satisfied: typing-extensions>=4.3.0 in c:\\users\\gaojin\\appdata\\roaming\\python\\python312\\site-packages (from gymnasium[mujoco]) (4.12.2)\n",
      "Requirement already satisfied: farama-notifications>=0.0.1 in c:\\users\\gaojin\\appdata\\roaming\\python\\python312\\site-packages (from gymnasium[mujoco]) (0.0.4)\n",
      "Collecting mujoco>=2.1.5 (from gymnasium[mujoco])\n",
      "  Downloading mujoco-3.2.6-cp312-cp312-win_amd64.whl.metadata (45 kB)\n",
      "Requirement already satisfied: imageio>=2.14.1 in c:\\users\\gaojin\\appdata\\roaming\\python\\python312\\site-packages (from gymnasium[mujoco]) (2.36.1)\n",
      "Requirement already satisfied: pillow>=8.3.2 in c:\\users\\gaojin\\appdata\\roaming\\python\\python312\\site-packages (from imageio>=2.14.1->gymnasium[mujoco]) (10.4.0)\n",
      "Collecting absl-py (from mujoco>=2.1.5->gymnasium[mujoco])\n",
      "  Using cached absl_py-2.1.0-py3-none-any.whl.metadata (2.3 kB)\n",
      "Collecting etils[epath] (from mujoco>=2.1.5->gymnasium[mujoco])\n",
      "  Downloading etils-1.11.0-py3-none-any.whl.metadata (6.5 kB)\n",
      "Collecting glfw (from mujoco>=2.1.5->gymnasium[mujoco])\n",
      "  Downloading glfw-2.8.0-py2.py27.py3.py30.py31.py32.py33.py34.py35.py36.py37.py38.p39.p310.p311.p312.p313-none-win_amd64.whl.metadata (5.4 kB)\n",
      "Collecting pyopengl (from mujoco>=2.1.5->gymnasium[mujoco])\n",
      "  Downloading PyOpenGL-3.1.7-py3-none-any.whl.metadata (3.2 kB)\n",
      "Requirement already satisfied: fsspec in c:\\users\\gaojin\\appdata\\roaming\\python\\python312\\site-packages (from etils[epath]->mujoco>=2.1.5->gymnasium[mujoco]) (2024.9.0)\n",
      "Collecting importlib_resources (from etils[epath]->mujoco>=2.1.5->gymnasium[mujoco])\n",
      "  Using cached importlib_resources-6.4.5-py3-none-any.whl.metadata (4.0 kB)\n",
      "Collecting zipp (from etils[epath]->mujoco>=2.1.5->gymnasium[mujoco])\n",
      "  Downloading zipp-3.21.0-py3-none-any.whl.metadata (3.7 kB)\n",
      "Downloading mujoco-3.2.6-cp312-cp312-win_amd64.whl (4.7 MB)\n",
      "   ---------------------------------------- 0.0/4.7 MB ? eta -:--:--\n",
      "   ---------------------- ----------------- 2.6/4.7 MB 13.7 MB/s eta 0:00:01\n",
      "   ---------------------------------------- 4.7/4.7 MB 13.0 MB/s eta 0:00:00\n",
      "Using cached absl_py-2.1.0-py3-none-any.whl (133 kB)\n",
      "Downloading glfw-2.8.0-py2.py27.py3.py30.py31.py32.py33.py34.py35.py36.py37.py38.p39.p310.p311.p312.p313-none-win_amd64.whl (559 kB)\n",
      "   ---------------------------------------- 0.0/559.4 kB ? eta -:--:--\n",
      "   ---------------------------------------- 559.4/559.4 kB 9.6 MB/s eta 0:00:00\n",
      "Downloading PyOpenGL-3.1.7-py3-none-any.whl (2.4 MB)\n",
      "   ---------------------------------------- 0.0/2.4 MB ? eta -:--:--\n",
      "   ---------------------------------------- 2.4/2.4 MB 13.8 MB/s eta 0:00:00\n",
      "Downloading etils-1.11.0-py3-none-any.whl (165 kB)\n",
      "Using cached importlib_resources-6.4.5-py3-none-any.whl (36 kB)\n",
      "Downloading zipp-3.21.0-py3-none-any.whl (9.6 kB)\n",
      "Installing collected packages: pyopengl, glfw, zipp, importlib_resources, etils, absl-py, mujoco\n",
      "Successfully installed absl-py-2.1.0 etils-1.11.0 glfw-2.8.0 importlib_resources-6.4.5 mujoco-3.2.6 pyopengl-3.1.7 zipp-3.21.0\n"
     ]
    }
   ],
   "source": [
    "!pip install \"gymnasium[mujoco]"
   ]
  },
  {
   "cell_type": "code",
   "execution_count": 4,
   "metadata": {},
   "outputs": [],
   "source": [
    "'''\n",
    "使用Ant-v5框架的xml_file参数。\n",
    "'''\n",
    "\n",
    "import gymnasium\n",
    "import numpy as np\n",
    "env = gymnasium.make('Ant-v5', xml_file='./mujoco_menagerie/unitree_go1/scene.xml')"
   ]
  },
  {
   "cell_type": "code",
   "execution_count": null,
   "metadata": {},
   "outputs": [],
   "source": [
    "\"\"\"虽然这足以加载模型，但我们需要调整一些环境参数以获得环境所需的行为，目前我们还将显式设置模拟、终止、奖励和观察参数。\"\"\"\n",
    "env = gymnasium.make(\n",
    "    'Ant-v5',\n",
    "    xml_file='./mujoco_menagerie/unitree_go1/scene.xml',\n",
    "    forward_reward_weight=0,\n",
    "    ctrl_cost_weight=0,\n",
    "    contact_cost_weight=0,\n",
    "    healthy_reward=0,\n",
    "    main_body=1,\n",
    "    healthy_z_range=(0, np.inf),\n",
    "    include_cfrc_ext_in_observation=True,\n",
    "    exclude_current_positions_from_observation=False,\n",
    "    reset_noise_scale=0,\n",
    "    frame_skip=1,\n",
    "    max_episode_steps=1000,\n",
    ")"
   ]
  },
  {
   "cell_type": "markdown",
   "metadata": {},
   "source": [
    "# Step 2 - Tweaking the Environment Parameters\n",
    "## Step 2.1 - Tweaking the Environment Simulation Parameters\n",
    "\n",
    "感兴趣的参数是frame_skip 、 reset_noise_scale和max_episode_steps\n",
    "\n",
    "\n",
    "## Step 2.2 - Tweaking the Environment Termination Parameters\n",
    "终止对于机器人环境来说很重要，可以避免采样“无用”的时间步长。\n",
    "感兴趣的参数是terminate_when_unhealthy和healthy_z_range 。\n",
    "\n",
    "## 步骤2.3 - 调整环境奖励参数\n",
    "感兴趣的参数是forward_reward_weight 、 ctrl_cost_weight 、 contact_cost_weight 、 healthy_reward和main_body 。\n",
    "\n",
    "## Step 2.4 - Tweaking the Environment Observation Parameters 调整环境观测参数\n",
    "感兴趣的论点是 include_cfrc_ext_in_observation 和 exclude_current_positions_from_observation 。\n",
    "\n"
   ]
  },
  {
   "cell_type": "markdown",
   "metadata": {},
   "source": [
    "# Step 3 - Train your Agent\n",
    "\n",
    "最后，我们完成了，我们可以使用 RL 算法来训练代理来行走/运行Go1机器人。注意：如果您使用自己的机器人模型遵循本指南，您可能会在训练过程中发现某些环境参数不符合预期，请随时返回步骤 2 并根据需要更改任何内容。"
   ]
  }
 ],
 "metadata": {
  "kernelspec": {
   "display_name": "Python 3",
   "language": "python",
   "name": "python3"
  },
  "language_info": {
   "codemirror_mode": {
    "name": "ipython",
    "version": 3
   },
   "file_extension": ".py",
   "mimetype": "text/x-python",
   "name": "python",
   "nbconvert_exporter": "python",
   "pygments_lexer": "ipython3",
   "version": "3.12.6"
  }
 },
 "nbformat": 4,
 "nbformat_minor": 2
}
