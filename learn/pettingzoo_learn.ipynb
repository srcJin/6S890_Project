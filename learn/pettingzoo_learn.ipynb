{
 "cells": [
  {
   "cell_type": "code",
   "execution_count": 5,
   "metadata": {},
   "outputs": [
    {
     "name": "stdout",
     "output_type": "stream",
     "text": [
      "Defaulting to user installation because normal site-packages is not writeable\n",
      "Requirement already satisfied: pettingzoo in c:\\users\\gaojin\\appdata\\roaming\\python\\python312\\site-packages (1.24.3)\n",
      "Requirement already satisfied: numpy>=1.21.0 in c:\\users\\gaojin\\appdata\\roaming\\python\\python312\\site-packages (from pettingzoo) (1.26.4)\n",
      "Requirement already satisfied: gymnasium>=0.28.0 in c:\\users\\gaojin\\appdata\\roaming\\python\\python312\\site-packages (from pettingzoo) (1.0.0)\n",
      "Requirement already satisfied: cloudpickle>=1.2.0 in c:\\users\\gaojin\\appdata\\roaming\\python\\python312\\site-packages (from gymnasium>=0.28.0->pettingzoo) (3.1.0)\n",
      "Requirement already satisfied: typing-extensions>=4.3.0 in c:\\users\\gaojin\\appdata\\roaming\\python\\python312\\site-packages (from gymnasium>=0.28.0->pettingzoo) (4.12.2)\n",
      "Requirement already satisfied: farama-notifications>=0.0.1 in c:\\users\\gaojin\\appdata\\roaming\\python\\python312\\site-packages (from gymnasium>=0.28.0->pettingzoo) (0.0.4)\n",
      "Defaulting to user installation because normal site-packages is not writeable\n",
      "Requirement already satisfied: pettingzoo[all] in c:\\users\\gaojin\\appdata\\roaming\\python\\python312\\site-packages (1.24.3)\n",
      "Requirement already satisfied: numpy>=1.21.0 in c:\\users\\gaojin\\appdata\\roaming\\python\\python312\\site-packages (from pettingzoo[all]) (1.26.4)\n",
      "Requirement already satisfied: gymnasium>=0.28.0 in c:\\users\\gaojin\\appdata\\roaming\\python\\python312\\site-packages (from pettingzoo[all]) (1.0.0)\n",
      "Collecting multi-agent-ale-py==0.1.11 (from pettingzoo[all])\n",
      "  Using cached multi-agent-ale-py-0.1.11.tar.gz (551 kB)\n",
      "  Preparing metadata (setup.py): started\n",
      "  Preparing metadata (setup.py): finished with status 'done'\n",
      "Collecting pygame==2.3.0 (from pettingzoo[all])\n",
      "  Using cached pygame-2.3.0.tar.gz (12.9 MB)\n",
      "  Preparing metadata (setup.py): started\n",
      "  Preparing metadata (setup.py): finished with status 'error'\n"
     ]
    },
    {
     "name": "stderr",
     "output_type": "stream",
     "text": [
      "  error: subprocess-exited-with-error\n",
      "  \n",
      "  × python setup.py egg_info did not run successfully.\n",
      "  │ exit code: 1\n",
      "  ╰─> [81 lines of output]\n",
      "      \n",
      "      \n",
      "      WARNING, No \"Setup\" File Exists, Running \"buildconfig/config.py\"\n",
      "      Using WINDOWS configuration...\n",
      "      \n",
      "      Making dir :prebuilt_downloads:\n",
      "      Downloading... https://www.libsdl.org/release/SDL2-devel-2.24.2-VC.zip 19b1e9f5bcf700a402bb924c0194c96596283c32\n",
      "      Unzipping :prebuilt_downloads\\SDL2-devel-2.24.2-VC.zip:\n",
      "      Downloading... https://www.libsdl.org/projects/SDL_image/release/SDL2_image-devel-2.0.5-VC.zip 137f86474691f4e12e76e07d58d5920c8d844d5b\n",
      "      Unzipping :prebuilt_downloads\\SDL2_image-devel-2.0.5-VC.zip:\n",
      "      Downloading... https://github.com/libsdl-org/SDL_ttf/releases/download/release-2.20.1/SDL2_ttf-devel-2.20.1-VC.zip 371606aceba450384428fd2852f73d2f6290b136\n",
      "      Unzipping :prebuilt_downloads\\SDL2_ttf-devel-2.20.1-VC.zip:\n",
      "      Downloading... https://github.com/libsdl-org/SDL_mixer/releases/download/release-2.6.2/SDL2_mixer-devel-2.6.2-VC.zip 000e3ea8a50261d46dbd200fb450b93c59ed4482\n",
      "      Unzipping :prebuilt_downloads\\SDL2_mixer-devel-2.6.2-VC.zip:\n",
      "      Downloading... https://github.com/pygame/pygame/releases/download/2.1.3.dev4/prebuilt-x64-pygame-2.1.4-20220319.zip 16b46596744ce9ef80e7e40fa72ddbafef1cf586\n",
      "      Unzipping :prebuilt_downloads\\prebuilt-x64-pygame-2.1.4-20220319.zip:\n",
      "      copying into .\\prebuilt-x64\n",
      "      Path for SDL: prebuilt-x64\\SDL2-2.24.2\n",
      "      ...Library directory for SDL: prebuilt-x64/SDL2-2.24.2/lib/x64\n",
      "      ...Include directory for SDL: prebuilt-x64/SDL2-2.24.2/include\n",
      "      Path for FONT: prebuilt-x64\\SDL2_ttf-2.20.1\n",
      "      ...Library directory for FONT: prebuilt-x64/SDL2_ttf-2.20.1/lib/x64\n",
      "      ...Include directory for FONT: prebuilt-x64/SDL2_ttf-2.20.1/include\n",
      "      Path for IMAGE: prebuilt-x64\\SDL2_image-2.0.5\n",
      "      ...Library directory for IMAGE: prebuilt-x64/SDL2_image-2.0.5/lib/x64\n",
      "      ...Include directory for IMAGE: prebuilt-x64/SDL2_image-2.0.5/include\n",
      "      Path for MIXER: prebuilt-x64\\SDL2_mixer-2.6.2\n",
      "      ...Library directory for MIXER: prebuilt-x64/SDL2_mixer-2.6.2/lib/x64\n",
      "      ...Include directory for MIXER: prebuilt-x64/SDL2_mixer-2.6.2/include\n",
      "      Path for PORTMIDI: prebuilt-x64\n",
      "      ...Library directory for PORTMIDI: prebuilt-x64/lib\n",
      "      ...Include directory for PORTMIDI: prebuilt-x64/include\n",
      "      DLL for SDL2: prebuilt-x64/SDL2-2.24.2/lib/x64/SDL2.dll\n",
      "      DLL for SDL2_ttf: prebuilt-x64/SDL2_ttf-2.20.1/lib/x64/SDL2_ttf.dll\n",
      "      DLL for SDL2_image: prebuilt-x64/SDL2_image-2.0.5/lib/x64/SDL2_image.dll\n",
      "      DLL for SDL2_mixer: prebuilt-x64/SDL2_mixer-2.6.2/lib/x64/SDL2_mixer.dll\n",
      "      DLL for portmidi: prebuilt-x64/lib/portmidi.dll\n",
      "      Path for FREETYPE: prebuilt-x64\n",
      "      ...Library directory for FREETYPE: prebuilt-x64/lib\n",
      "      ...Include directory for FREETYPE: prebuilt-x64/include\n",
      "      Path for PNG not found.\n",
      "      ...Found include dir but no library dir in prebuilt-x64.\n",
      "      Path for JPEG not found.\n",
      "      ...Found include dir but no library dir in prebuilt-x64.\n",
      "      DLL for freetype: prebuilt-x64/lib/freetype.dll\n",
      "      DLL for png: prebuilt-x64/SDL2_image-2.0.5/lib/x64/libpng16-16.dll\n",
      "      \n",
      "      ---\n",
      "      For help with compilation see:\n",
      "          https://www.pygame.org/wiki/CompileWindows\n",
      "      To contribute to pygame development see:\n",
      "          https://www.pygame.org/contribute.html\n",
      "      ---\n",
      "      \n",
      "      Traceback (most recent call last):\n",
      "        File \"C:\\Users\\gaojin\\AppData\\Local\\Temp\\pip-install-iwyprahp\\pygame_05569731f5ab40d69ad219b4b644e316\\buildconfig\\config_win.py\", line 336, in configure\n",
      "          from . import vstools\n",
      "        File \"C:\\Users\\gaojin\\AppData\\Local\\Temp\\pip-install-iwyprahp\\pygame_05569731f5ab40d69ad219b4b644e316\\buildconfig\\vstools.py\", line 2, in <module>\n",
      "          from distutils.msvccompiler import MSVCCompiler, get_build_architecture\n",
      "      ModuleNotFoundError: No module named 'distutils.msvccompiler'\n",
      "      \n",
      "      During handling of the above exception, another exception occurred:\n",
      "      \n",
      "      Traceback (most recent call last):\n",
      "        File \"<string>\", line 2, in <module>\n",
      "        File \"<pip-setuptools-caller>\", line 34, in <module>\n",
      "        File \"C:\\Users\\gaojin\\AppData\\Local\\Temp\\pip-install-iwyprahp\\pygame_05569731f5ab40d69ad219b4b644e316\\setup.py\", line 400, in <module>\n",
      "          buildconfig.config.main(AUTO_CONFIG)\n",
      "        File \"C:\\Users\\gaojin\\AppData\\Local\\Temp\\pip-install-iwyprahp\\pygame_05569731f5ab40d69ad219b4b644e316\\buildconfig\\config.py\", line 231, in main\n",
      "          deps = CFG.main(**kwds, auto_config=auto)\n",
      "                 ^^^^^^^^^^^^^^^^^^^^^^^^^^^^^^^^^^\n",
      "        File \"C:\\Users\\gaojin\\AppData\\Local\\Temp\\pip-install-iwyprahp\\pygame_05569731f5ab40d69ad219b4b644e316\\buildconfig\\config_win.py\", line 493, in main\n",
      "          return setup_prebuilt_sdl2(prebuilt_dir)\n",
      "                 ^^^^^^^^^^^^^^^^^^^^^^^^^^^^^^^^^\n",
      "        File \"C:\\Users\\gaojin\\AppData\\Local\\Temp\\pip-install-iwyprahp\\pygame_05569731f5ab40d69ad219b4b644e316\\buildconfig\\config_win.py\", line 453, in setup_prebuilt_sdl2\n",
      "          DEPS.configure()\n",
      "        File \"C:\\Users\\gaojin\\AppData\\Local\\Temp\\pip-install-iwyprahp\\pygame_05569731f5ab40d69ad219b4b644e316\\buildconfig\\config_win.py\", line 338, in configure\n",
      "          from buildconfig import vstools\n",
      "        File \"C:\\Users\\gaojin\\AppData\\Local\\Temp\\pip-install-iwyprahp\\pygame_05569731f5ab40d69ad219b4b644e316\\buildconfig\\vstools.py\", line 2, in <module>\n",
      "          from distutils.msvccompiler import MSVCCompiler, get_build_architecture\n",
      "      ModuleNotFoundError: No module named 'distutils.msvccompiler'\n",
      "      [end of output]\n",
      "  \n",
      "  note: This error originates from a subprocess, and is likely not a problem with pip.\n",
      "error: metadata-generation-failed\n",
      "\n",
      "× Encountered error while generating package metadata.\n",
      "╰─> See above for output.\n",
      "\n",
      "note: This is an issue with the package mentioned above, not pip.\n",
      "hint: See above for details.\n"
     ]
    },
    {
     "name": "stdout",
     "output_type": "stream",
     "text": [
      "Defaulting to user installation because normal site-packages is not writeable\n",
      "Collecting pymunk\n",
      "  Downloading pymunk-6.9.0-cp312-cp312-win_amd64.whl.metadata (7.2 kB)\n",
      "Collecting cffi>=1.17.1 (from pymunk)\n",
      "  Downloading cffi-1.17.1-cp312-cp312-win_amd64.whl.metadata (1.6 kB)\n",
      "Collecting pycparser (from cffi>=1.17.1->pymunk)\n",
      "  Downloading pycparser-2.22-py3-none-any.whl.metadata (943 bytes)\n",
      "Downloading pymunk-6.9.0-cp312-cp312-win_amd64.whl (366 kB)\n",
      "Downloading cffi-1.17.1-cp312-cp312-win_amd64.whl (181 kB)\n",
      "Downloading pycparser-2.22-py3-none-any.whl (117 kB)\n",
      "Installing collected packages: pycparser, cffi, pymunk\n",
      "Successfully installed cffi-1.17.1 pycparser-2.22 pymunk-6.9.0\n"
     ]
    }
   ],
   "source": [
    "!pip install pettingzoo\n",
    "#install all dependencies\n",
    "!pip install pettingzoo[all]\n",
    "!pip install pymunk"
   ]
  },
  {
   "cell_type": "markdown",
   "metadata": {},
   "source": [
    "# Initializing Environments\n",
    "在 PettingZoo 中使用环境与在 Gymnasium 中使用环境非常相似。您可以通过以下方式初始化环境："
   ]
  },
  {
   "cell_type": "code",
   "execution_count": 6,
   "metadata": {},
   "outputs": [],
   "source": [
    "from pettingzoo.butterfly import pistonball_v6\n",
    "env = pistonball_v6.env()"
   ]
  },
  {
   "cell_type": "markdown",
   "metadata": {},
   "source": [
    "环境通常可以通过创建时的参数进行高度配置，即："
   ]
  },
  {
   "cell_type": "code",
   "execution_count": 7,
   "metadata": {},
   "outputs": [
    {
     "data": {
      "text/plain": [
       "<pettingzoo.utils.wrappers.order_enforcing.OrderEnforcingWrapper at 0x1e66683f230>"
      ]
     },
     "execution_count": 7,
     "metadata": {},
     "output_type": "execute_result"
    }
   ],
   "source": [
    "from pettingzoo.butterfly import cooperative_pong_v5\n",
    "\n",
    "cooperative_pong_v5.env(ball_speed=18, left_paddle_speed=25,\n",
    "right_paddle_speed=25, cake_paddle=True, max_cycles=900, bounce_randomness=False)"
   ]
  },
  {
   "cell_type": "markdown",
   "metadata": {},
   "source": [
    "# Interacting With Environments\n",
    "\n",
    "可以使用与 Gymnasium 类似的界面与环境进行交互："
   ]
  },
  {
   "cell_type": "code",
   "execution_count": 8,
   "metadata": {},
   "outputs": [],
   "source": [
    "from pettingzoo.butterfly import cooperative_pong_v5\n",
    "\n",
    "env = cooperative_pong_v5.env(render_mode=\"human\")\n",
    "env.reset(seed=42)\n",
    "\n",
    "for agent in env.agent_iter():\n",
    "    observation, reward, termination, truncation, info = env.last()\n",
    "\n",
    "    if termination or truncation:\n",
    "        action = None\n",
    "    else:\n",
    "        # this is where you would insert your policy\n",
    "        action = env.action_space(agent).sample()\n",
    "\n",
    "    env.step(action)\n",
    "env.close()"
   ]
  },
  {
   "cell_type": "markdown",
   "metadata": {},
   "source": [
    "常用的方法有：\n",
    "\n",
    "agent_iter(max_iter=2**63) 返回一个迭代器，该迭代器 yields the current agent 。 \n",
    "**当环境中的所有代理完成或max_iter （步骤已执行）时，它终止。**\n",
    "\n",
    "last(observe=True) **返回当前能够采取行动的代理的观察、奖励、完成和信息。**\n",
    "返回的奖励是智能体自上次行动以来收到的累积奖励。如果将observe设置为 False，则不会计算观察值，并且将返回 None 来代替它。请注意，完成单个代理并不意味着环境已完成。\n",
    "\n",
    "reset()重置环境并设置它以供第一次调用时使用。该方法必须在任何其他方法之前调用。\n",
    "\n",
    "step(action)接受并执行环境中代理的操作，自动将控制权切换到下一个代理。"
   ]
  },
  {
   "cell_type": "markdown",
   "metadata": {},
   "source": [
    "## Additional Environment API\n",
    "PettingZoo 将游戏建模为智能体环境循环(AEC) 游戏，因此可以支持多智能体 RL 可以考虑的任何游戏，从而允许出现极其奇怪的情况。因此，我们的 API 包含您可能不需要但在您需要时非常重要的较低级别的函数和属性。不过，它们的功能用于实现上面的高级函数，因此包含它们只是代码分解的问题。"
   ]
  },
  {
   "cell_type": "markdown",
   "metadata": {},
   "source": [
    "agents ：所有当前代理的名称列表，通常为整数。这些可能会随着环境的进展而改变（即可以添加或删除代理）。\n",
    "\n",
    "num_agents ：代理列表的长度。\n",
    "\n",
    "agent_selection与当前选择的代理相对应的环境属性，可以对其采取操作。\n",
    "\n",
    "observation_space(agent)检索特定代理的观察空间的函数。对于特定的代理 ID，此空间不应更改。\n",
    "\n",
    "action_space(agent)检索特定代理的操作空间的函数。对于特定的代理 ID，此空间不应更改。\n",
    "\n",
    "terminations ：调用时每个当前代理的终止状态的字典，按名称键入。 last()访问该属性。请注意，可以在此字典中添加或删除代理。返回的字典如下所示：\n",
    "\n",
    "truncations ：调用时每个当前代理的截断状态的字典，按名称键入。 last()访问该属性。请注意，可以在此字典中添加或删除代理。返回的字典如下所示：\n",
    "\n",
    "infos ：每个当前代理的信息字典，按名称键入。每个代理的信息也是一个字典。请注意，可以在此属性中添加或删除代理。 last()访问该属性。返回的字典如下所示：\n",
    "\n",
    "observe(agent) ：返回代理当前可以进行的观察。 last()调用此函数。\n",
    "\n",
    "rewards ：调用时每个当前代理的奖励的字典，按名称键入。奖励上一步后产生的瞬时奖励。请注意，可以在此属性中添加或删除代理。 last()不直接访问此属性，而是将返回的奖励存储在内部变量中。奖励结构如下：\n",
    "\n",
    "{0:[first agent's reward], 1:[second agent's reward] ... n-1:[nth agent's reward]}\n",
    "\n",
    "seed(seed=None) ：重新seed环境。 reset()必须在seed()之后、 step()之前调用。\n",
    "\n",
    "render() ：使用初始化时指定的渲染模式从环境返回渲染帧。在渲染模式为'rgb_array'情况下，返回一个 numpy 数组，而使用'ansi'则返回打印的字符串。在human模式下无需调用render() 。\n",
    "\n",
    "close() ：关闭渲染窗口。\n"
   ]
  },
  {
   "cell_type": "markdown",
   "metadata": {},
   "source": [
    "## Optional API Components"
   ]
  },
  {
   "cell_type": "markdown",
   "metadata": {},
   "source": [
    "虽然基本 API 不需要，但大多数下游包装器和实用程序依赖于以下属性和方法，并且应将它们添加到新环境中，除非在无法添加一个或多个的特殊情况下。\n",
    "\n",
    "possible_agents ：环境可能生成的所有 possible_agents 的列表。相当于观察和行动空间中的代理列表。这不能通过播放或重置来更改。\n",
    "\n",
    "max_num_agents ：possible_agents 列表的长度。\n",
    "\n",
    "observation_spaces ：每个代理的观察空间的字典，按名称键入。这不能通过播放或重置来更改。\n",
    "\n",
    "action_spaces ：每个代理的操作空间的字典，按名称键入。这不能通过播放或重置来更改。\n",
    "\n",
    "state() ：返回环境当前状态的全局观察。并非所有环境都支持此功能。\n",
    "\n",
    "state_space ：环境全局观察的空间。并非所有环境都支持此功能。"
   ]
  },
  {
   "cell_type": "markdown",
   "metadata": {},
   "source": [
    "## Notable Idioms 值得注意的习语"
   ]
  },
  {
   "cell_type": "code",
   "execution_count": null,
   "metadata": {},
   "outputs": [],
   "source": []
  },
  {
   "cell_type": "markdown",
   "metadata": {},
   "source": [
    "### 检查整个环境是否完成\n",
    "当代理agent 终止terminated 或截断truncated时，它将从agents中删除，因此当环境完成时， agents将是一个空列表。\n",
    "**这意味着 not env.agents 表示环境完成。**"
   ]
  },
  {
   "cell_type": "markdown",
   "metadata": {},
   "source": [
    "### Unwrapping an environment"
   ]
  },
  {
   "cell_type": "markdown",
   "metadata": {},
   "source": [
    "如果您有一个包装环境，并且您希望在所有包装器层下获取未包装环境（以便您可以手动调用函数或更改环境的某些底层方面），则可以使用.unwrapped属性。如果环境已经是基础环境，则.unwrapped属性将仅返回其自身。"
   ]
  },
  {
   "cell_type": "code",
   "execution_count": null,
   "metadata": {},
   "outputs": [],
   "source": [
    "from pettingzoo.butterfly import knights_archers_zombies_v10\n",
    "\n",
    "base_env = knights_archers_zombies_v10.env().unwrapped"
   ]
  },
  {
   "cell_type": "markdown",
   "metadata": {},
   "source": [
    "## Variable Numbers of Agents (Death)\n",
    "\n",
    "代理可以在环境过程中死亡和生成。如果一个代理死亡，那么它在terminated字典中的条目将设置为True ，它成为下一个选定的代理（或在另一个也被终止或截断的代理之后），并且它采取的操作必须为None 。\n",
    "\n",
    "执行此空步骤后，代理将从agents和其他可更改属性中删除。代理生成只需将其附加到agents和其他可更改的属性（它已经位于可能的代理和操作/观察空间中），并在某个时刻使用 agent_iter 转换到它即可完成。"
   ]
  },
  {
   "cell_type": "markdown",
   "metadata": {},
   "source": [
    "## Environment as an Agent\n",
    "\n",
    "在某些情况下，将介质与环境行为分开有助于研究。这可以通过将环境视为代理来实现。我们鼓励在 env.agents 中调用环境参与者env ，并让它采取None作为操作。"
   ]
  },
  {
   "cell_type": "markdown",
   "metadata": {},
   "source": [
    "## Raw Environments\n",
    "默认情况下，环境被包装在一些轻量级包装器中，这些包装器处理错误消息并确保在错误使用的情况下采取合理的行为（即在重置之前进行非法移动或步进）。然而，这些增加了非常少量的开销。如果您想创建一个没有它们的环境，可以使用每个模块中包含的raw_env()构造函数来实现："
   ]
  },
  {
   "cell_type": "code",
   "execution_count": null,
   "metadata": {},
   "outputs": [],
   "source": [
    "env = knights_archers_zombies_v10.raw_env(<environment parameters>)"
   ]
  }
 ],
 "metadata": {
  "kernelspec": {
   "display_name": "Python 3",
   "language": "python",
   "name": "python3"
  },
  "language_info": {
   "codemirror_mode": {
    "name": "ipython",
    "version": 3
   },
   "file_extension": ".py",
   "mimetype": "text/x-python",
   "name": "python",
   "nbconvert_exporter": "python",
   "pygments_lexer": "ipython3",
   "version": "3.12.6"
  }
 },
 "nbformat": 4,
 "nbformat_minor": 2
}
